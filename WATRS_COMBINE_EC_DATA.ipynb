{
  "cells": [
    {
      "cell_type": "markdown",
      "metadata": {
        "id": "view-in-github",
        "colab_type": "text"
      },
      "source": [
        "<a href=\"https://colab.research.google.com/github/sciencebyAJ/watrs_ec_processing/blob/main/WATRS_COMBINE_EC_DATA.ipynb\" target=\"_parent\"><img src=\"https://colab.research.google.com/assets/colab-badge.svg\" alt=\"Open In Colab\"/></a>"
      ]
    },
    {
      "cell_type": "markdown",
      "metadata": {
        "id": "fSmQbEns1l9v"
      },
      "source": [
        "# CSUMB EC PROCESSING STEP 1\n",
        "1.   Combine raw .dat files from towers\n",
        "\n",
        "Files exported from the eddy pro software are saved in the Ameriflux Standard output format as '.dat' files.  These files are capped at a certain size and need to be combined to generate a record comensurate with the entire period of observation.\n",
        "\n",
        "The script below reads in all 'raw' data for a given tower, *combines the data* into a large dataframe, *assigns a time index*, *removes duplicate rows* due to 'overlap' between '.dat' file records, *converts data values to numeric* from objects, and *saves the data to a csv* for evaluating quality, applying PI quality control flags, and gap-filling.\n"
      ]
    },
    {
      "cell_type": "code",
      "source": [
        "!git clone https://github.com/sciencebyAJ/watrs_ec_processing.git"
      ],
      "metadata": {
        "id": "UC5ifMFYrB6a",
        "outputId": "bcf55d24-0db7-4204-e4f4-c7189965f475",
        "colab": {
          "base_uri": "https://localhost:8080/"
        }
      },
      "execution_count": 1,
      "outputs": [
        {
          "output_type": "stream",
          "name": "stdout",
          "text": [
            "Cloning into 'watrs_ec_processing'...\n",
            "remote: Enumerating objects: 30, done.\u001b[K\n",
            "remote: Counting objects: 100% (30/30), done.\u001b[K\n",
            "remote: Compressing objects: 100% (24/24), done.\u001b[K\n",
            "remote: Total 30 (delta 6), reused 0 (delta 0), pack-reused 0 (from 0)\u001b[K\n",
            "Receiving objects: 100% (30/30), 12.13 KiB | 3.03 MiB/s, done.\n",
            "Resolving deltas: 100% (6/6), done.\n"
          ]
        }
      ]
    },
    {
      "cell_type": "code",
      "execution_count": 2,
      "metadata": {
        "colab": {
          "base_uri": "https://localhost:8080/"
        },
        "id": "KI6V_J9S9c0E",
        "outputId": "c92e75a2-6b8a-4dd5-c5e7-1f3e256ff391"
      },
      "outputs": [
        {
          "output_type": "stream",
          "name": "stdout",
          "text": [
            "Mounted at /content/drive\n"
          ]
        }
      ],
      "source": [
        "from google.colab import drive\n",
        "drive.mount('/content/drive')"
      ]
    },
    {
      "cell_type": "markdown",
      "metadata": {
        "id": "CYFpGDFAhSzY"
      },
      "source": [
        "### Dependencies"
      ]
    },
    {
      "cell_type": "code",
      "execution_count": 3,
      "metadata": {
        "id": "j0KBnMiYkObW"
      },
      "outputs": [],
      "source": [
        "import glob\n",
        "import pandas as pd\n",
        "import datetime\n",
        "import os\n",
        "import numpy as np\n",
        "import json\n",
        "import requests\n",
        "from tables import NaturalNameWarning\n",
        "import warnings\n",
        "warnings.filterwarnings('ignore', category=NaturalNameWarning)\n",
        "verbose = False"
      ]
    },
    {
      "cell_type": "code",
      "source": [
        "cd /content/watrs_ec_processing/"
      ],
      "metadata": {
        "id": "vvndZ7Yztdyr",
        "colab": {
          "base_uri": "https://localhost:8080/"
        },
        "outputId": "7afd05f7-0ccb-4100-b4df-a32c989dc6f6"
      },
      "execution_count": 4,
      "outputs": [
        {
          "output_type": "stream",
          "name": "stdout",
          "text": [
            "/content/watrs_ec_processing\n"
          ]
        }
      ]
    },
    {
      "cell_type": "code",
      "source": [
        "import src.combine_ec_data as combo"
      ],
      "metadata": {
        "id": "BsTC0kMXtjgD"
      },
      "execution_count": 5,
      "outputs": []
    },
    {
      "cell_type": "code",
      "source": [
        "# Preserve for future use\n",
        "# meta_url = 'https://docs.google.com/spreadsheets/d/1cUHT0Rb0n39I0qk-bYY194spSWr7MNqkFX15PWnxXlI/edit?usp=sharing'\n",
        "# read_url = meta_url.replace('/edit?usp=sharing','/export?format=csv&gid=0')\n",
        "# meta_df = pd.read_csv(read_url)\n",
        "# covert to table above long term, use these for now\n",
        "# 2024-present fields"
      ],
      "metadata": {
        "id": "k1Kik9i4uALJ"
      },
      "execution_count": 6,
      "outputs": []
    },
    {
      "cell_type": "markdown",
      "metadata": {
        "id": "T1ku1esEdKiq"
      },
      "source": [
        "### Set File Paths"
      ]
    },
    {
      "cell_type": "code",
      "execution_count": 7,
      "metadata": {
        "colab": {
          "base_uri": "https://localhost:8080/"
        },
        "id": "9dF2LhKnF4i0",
        "outputId": "2efee1ab-1db9-4e45-a694-877abe7957c5"
      },
      "outputs": [
        {
          "output_type": "stream",
          "name": "stdout",
          "text": [
            "/content/drive/Shareddrives/WATRS_Field_Data/Field_Data/CSUMB_WineGrape_Zabala_2023/Data folder exists...\n",
            "/content/drive/Shareddrives/WATRS_Field_Data/Field_Data/CSUMB_WineGrape_Zabala_2023/Combined_EC_Data/ folder exists...\n"
          ]
        }
      ],
      "source": [
        "LOGGERNET=False #<-- flag to address table format of Loggernet Pulled Tables vs Manually Pulled Tables\n",
        "\n",
        "lab_folder_path = '/content/drive/Shareddrives/WATRS_Field_Data/Field_Data/'\n",
        "raw_data_path = lab_folder_path+'CSUMB_WineGrape_Zabala_2023/' # will draw from metadata table\n",
        "\n",
        "field_name= combo.get_field_name(raw_data_path)\n",
        "# out paths\n",
        "out_path = raw_data_path+'Combined_EC_Data/'\n",
        "combo.check_folder(raw_data_path+'Data',out_path)\n"
      ]
    },
    {
      "cell_type": "markdown",
      "metadata": {
        "id": "_SJ0VH0fhfF1"
      },
      "source": [
        "### Combine all '{SITENAME}.dat' Ameriflux formatted files & Save Output"
      ]
    },
    {
      "cell_type": "code",
      "execution_count": 9,
      "metadata": {
        "colab": {
          "base_uri": "https://localhost:8080/"
        },
        "id": "FwNZcErcGS7U",
        "outputId": "2a176236-c528-492e-a2e5-52ba5d74b842"
      },
      "outputs": [
        {
          "output_type": "stream",
          "name": "stdout",
          "text": [
            "There are 163 files in the folder\n",
            "file saved to: \t/content/drive/Shareddrives/WATRS_Field_Data/Field_Data/CSUMB_WineGrape_Zabala_2023/Combined_EC_Data/CSUMB_WineGrape_Zabala_20250131.csv\n",
            "\n",
            "The processed data for CSUMB_WineGrape_Zabala has 1.8535249828884326 years of data\n"
          ]
        }
      ],
      "source": [
        "fnames = glob.glob(raw_data_path+'Data/*/1*AmeriFluxForma*.dat')\n",
        "\n",
        "if len(fnames)==0:\n",
        "  print('Check to see if data exists at:\\n'+raw_data_path)\n",
        "  print('Re-define raw-data path variable above')\n",
        "else:\n",
        "  print(f'There are {str(len(fnames))} files in the folder')\n",
        "fnames.sort(key=os.path.getmtime)\n",
        "\n",
        "i = 0\n",
        "for fname in fnames:\n",
        "  if i == 0:\n",
        "    df_i = pd.read_csv(fname)\n",
        "    col_list = list(df_i.columns)\n",
        "    df_all = df_i.copy()\n",
        "  else:\n",
        "    try:\n",
        "      if LOGGERNET == True:\n",
        "        df_i = pd.read_csv(fname,header=1)\n",
        "      else:\n",
        "        df_i = pd.read_csv(fname)\n",
        "      df_i = combo.check_for_missing_columns(df_i,col_list)\n",
        "      df_all=pd.concat([df_all,df_i[col_list]],axis=0,ignore_index=True)\n",
        "      df_all.drop_duplicates(subset=['TIMESTAMP_END'],inplace=True)\n",
        "      if verbose == True:\n",
        "        print('x '+fname)\n",
        "    except:\n",
        "      try:\n",
        "        df_i = pd.read_csv(fname, encoding= 'unicode_escape',on_bad_lines='skip')\n",
        "        df_i = combo.check_for_missing_columns(df_i,col_list)\n",
        "        df_all=pd.concat([df_all,df_i[col_list]],axis=0,ignore_index=True)\n",
        "        df_all.drop_duplicates(subset=['TIMESTAMP_END'],inplace=True)\n",
        "        if verbose == True:\n",
        "            print('skipped bad lines\\nx '+fname)\n",
        "      except:\n",
        "        print('... not read '+fname)\n",
        "      pass\n",
        "  i+=1\n",
        "df_all.loc[df_all['TIMESTAMP_END']<2000, 'TIMESTAMP_END'] = np.nan\n",
        "df_all = df_all[df_all['TIMESTAMP_END'].notna()]\n",
        "if df_all.shape[0]==0:\n",
        "  print('check folder path for files/ncheckdatetime of df_all')\n",
        "\n",
        "df_time= combo.set_time_index(df_all)\n",
        "df_time.drop_duplicates(inplace=True)\n",
        "df_num = combo.to_numeric(df_time)\n",
        "todays_date_yyyymmdd=str(datetime.date.today().year)+str(datetime.date.today().month).zfill(2)+str(datetime.date.today().day).zfill(2)\n",
        "out_fname = out_path+field_name+'_'+todays_date_yyyymmdd+'.csv'\n",
        "df_num.to_csv(out_fname)\n",
        "\n",
        "print('file saved to: \\t'+out_fname)\n",
        "print('\\nThe processed data for '+ field_name + ' has '+ str(df_num.shape[0]/48 / 365.25)+' years of data')"
      ]
    }
  ],
  "metadata": {
    "colab": {
      "collapsed_sections": [
        "CYFpGDFAhSzY",
        "QVmkMc6NhWIq",
        "tKAsDS8edAzE"
      ],
      "provenance": [],
      "include_colab_link": true
    },
    "kernelspec": {
      "display_name": "Python 3",
      "name": "python3"
    },
    "language_info": {
      "name": "python"
    }
  },
  "nbformat": 4,
  "nbformat_minor": 0
}