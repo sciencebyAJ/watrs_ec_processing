{
  "cells": [
    {
      "cell_type": "markdown",
      "metadata": {
        "id": "view-in-github",
        "colab_type": "text"
      },
      "source": [
        "<a href=\"https://colab.research.google.com/github/sciencebyAJ/watrs_ec_processing/blob/main/WATRS_QC_EC_DATA.ipynb\" target=\"_parent\"><img src=\"https://colab.research.google.com/assets/colab-badge.svg\" alt=\"Open In Colab\"/></a>"
      ]
    },
    {
      "cell_type": "markdown",
      "metadata": {
        "id": "fSmQbEns1l9v"
      },
      "source": [
        "# WATRS Quality Conrol and Apply PI Flag\n",
        "\n",
        "The purpose of this script is to apply a semi-automated quality control on 1/2 hourly Ameriflux formatted data. For each EC tower we apply automated quality control procedures to flag errant measurements and manually review flagged data to either remove or apply addition quality flags. The script uses bokeh to identify start and end dates of flags and document reasons for removing data for a given tower.\n",
        "\n",
        "This script reads in aggregated data for a given tower:\n",
        "* runs 1st past quality checks including a rolling IQR filter and a function to flag spikes and values outside of realistic measurement ranges following Papale et al., 2006.\n",
        "* generates interactive plots for relevant variables to guide quality PI flagging\n",
        "* saves the quality controlled & PI flagged data to a csv.\n",
        "\n",
        "The output from this step serves as an input for the fluxdata qaqc software package and weekly status report checks.\n",
        "\n",
        "Gap-filling and integration to daily timesteps i complete in a subsequent script.\n",
        "\n"
      ]
    },
    {
      "cell_type": "markdown",
      "metadata": {
        "id": "hXsJXbAisaPC"
      },
      "source": [
        "### Mount Drive and Install Packages"
      ]
    },
    {
      "cell_type": "code",
      "execution_count": null,
      "metadata": {
        "id": "vZpXG0zDSGJ9",
        "colab": {
          "base_uri": "https://localhost:8080/"
        },
        "outputId": "e511579a-4808-4d83-ad07-7969bfd03e06"
      },
      "outputs": [
        {
          "output_type": "stream",
          "name": "stdout",
          "text": [
            "Drive already mounted at /content/drive; to attempt to forcibly remount, call drive.mount(\"/content/drive\", force_remount=True).\n"
          ]
        }
      ],
      "source": [
        "from google.colab import drive\n",
        "drive.mount('/content/drive')"
      ]
    },
    {
      "cell_type": "code",
      "execution_count": null,
      "metadata": {
        "id": "RQssUovNXnQj"
      },
      "outputs": [],
      "source": [
        "%%capture\n",
        "!pip install windrose openpyxl"
      ]
    },
    {
      "cell_type": "code",
      "source": [
        "%%capture\n",
        "!git clone https://github.com/sciencebyAJ/watrs_ec_processing.git"
      ],
      "metadata": {
        "id": "935nOI3GBq_4"
      },
      "execution_count": null,
      "outputs": []
    },
    {
      "cell_type": "code",
      "source": [
        "cd /content/watrs_ec_processing/"
      ],
      "metadata": {
        "colab": {
          "base_uri": "https://localhost:8080/"
        },
        "id": "iW9o4sUiBs2o",
        "outputId": "471d63e4-3c13-4f6b-d2a1-bcf8906b208b"
      },
      "execution_count": null,
      "outputs": [
        {
          "output_type": "stream",
          "name": "stdout",
          "text": [
            "/content/watrs_ec_processing\n"
          ]
        }
      ]
    },
    {
      "cell_type": "markdown",
      "metadata": {
        "id": "UyZtFgYrsSqr"
      },
      "source": [
        "### Import Dependencies"
      ]
    },
    {
      "cell_type": "code",
      "execution_count": null,
      "metadata": {
        "id": "j0KBnMiYkObW"
      },
      "outputs": [],
      "source": [
        "import glob\n",
        "import os\n",
        "import sys\n",
        "import datetime\n",
        "import numpy as np\n",
        "import pandas as pd\n",
        "import datetime\n",
        "import matplotlib.pyplot as plt\n",
        "from windrose import WindroseAxes\n",
        "from sklearn.linear_model import LinearRegression\n",
        "\n",
        "import bokeh.io\n",
        "import bokeh.plotting\n",
        "from bokeh.models import Range1d\n",
        "from bokeh.io import reset_output\n",
        "from bokeh.layouts import gridplot, column\n",
        "from bokeh.plotting import figure, ColumnDataSource, output_file, show, save\n",
        "from bokeh.models import HoverTool, Div, Range1d\n",
        "from bokeh.models.formatters import DatetimeTickFormatter\n",
        "\n",
        "# Enable viewing Bokeh plots in the notebook\n",
        "bokeh.io.output_notebook()\n",
        "\n",
        "# Import custom functions for EC data processing\n",
        "import src.combine_ec_data as watrs"
      ]
    },
    {
      "cell_type": "markdown",
      "metadata": {
        "id": "B-u4C18NsV1e"
      },
      "source": [
        "### Choose Tower"
      ]
    },
    {
      "cell_type": "code",
      "source": [
        "field = \"MB_WG_ZAB\" #@param [\"MB_WG_ZAB\", \"MB_WG_SCH\", \"MB_LET_S1\", \"MB_LET_S2\", \"MB_CEL_S1\", \"MB_CEL_S2\"]"
      ],
      "metadata": {
        "id": "JZ-czl-gFZ9T"
      },
      "execution_count": null,
      "outputs": []
    },
    {
      "cell_type": "code",
      "execution_count": null,
      "metadata": {
        "id": "4SvpC2tiH14g",
        "colab": {
          "base_uri": "https://localhost:8080/"
        },
        "outputId": "8016eb4e-5c60-4e3b-e9a2-df7d9c7ee46e"
      },
      "outputs": [
        {
          "output_type": "stream",
          "name": "stdout",
          "text": [
            "in file:\n",
            "\t/content/drive/Shareddrives/WATRS_Field_Data/Field_Data/CSUMB_WineGrape_Zabala_2023/Data_processed/MB_WG_ZAB_pi_qc_20250209.csv\n",
            "pi flagged file saved as:\n",
            "\t/content/drive/Shareddrives/WATRS_Field_Data/Field_Data/CSUMB_WineGrape_Zabala_2023/Data_processed/MB_WG_ZAB_pi_qc_20250209.csv\n"
          ]
        }
      ],
      "source": [
        "\n",
        "# Define a qc flagging sheet to use\n",
        "site_meta_sheet_url = \"https://docs.google.com/spreadsheets/d/1fmik1-lOcGyLyLe6RmBseVzpIddQEU-9-KNh1p_4lpU/edit?usp=sharing\"\n",
        "as_csv_url = site_meta_sheet_url.replace('/edit?usp=sharing','/export?format=csv&gid=0')\n",
        "meta_df = pd.read_csv(as_csv_url)\n",
        "# meta_df.loc[meta_df.SITE==field]\n",
        "# Get Paths from meta data sheet\n",
        "raw_data_path = meta_df.loc[meta_df.SITE==field]['RAW_EC_PATH'][0]\n",
        "pi_flag_url = meta_df.loc[meta_df.SITE==field]['PI_FLAGGING_DOC'][0]\n",
        "piflag_as_csv_url = pi_flag_url.replace('/edit?usp=sharing','/export?format=csv&gid=0')\n",
        "flag_df = pd.read_csv(piflag_as_csv_url)\n",
        "\n",
        "# current EC tower paths\n",
        "in_path = raw_data_path+'/Data_processed/*_2025*.csv' # set out path for saved csv at end of code\n",
        "in_fname = glob.glob(in_path)[-1] #retrieve last saved combined csv from CSUMB EC Processing Step 1\n",
        "print('in file:\\n\\t'+in_fname)\n",
        "todays_date_yyyymmdd=str(datetime.date.today().year)+str(datetime.date.today().month).zfill(2)+str(datetime.date.today().day).zfill(2)\n",
        "out_fname = '/'.join(in_fname.split('/')[:-1])+'/'+field+'_pi_qc_'+todays_date_yyyymmdd+'.csv'\n",
        "out_fig_path = '/'.join(in_fname.split('/')[:-4])+'/Field_QAQC_Figures/'\n",
        "print('pi flagged file saved as:\\n\\t'+out_fname)"
      ]
    },
    {
      "cell_type": "markdown",
      "metadata": {
        "id": "PDpqi8-gsJQQ"
      },
      "source": [
        "### Plotting Function for QCing data"
      ]
    },
    {
      "cell_type": "code",
      "execution_count": null,
      "metadata": {
        "id": "pem5XChZk6gE"
      },
      "outputs": [],
      "source": [
        "def line_plot(fig, x, y, source, color, label=None, x_axis_type='date', **kwargs):\n",
        "        \"\"\"\n",
        "        Add a single time series to a :obj:`bokeh.plotting.figure.Figure`\n",
        "        object using data from a datetime indexed :obj:`pandas.DataFrame` with\n",
        "        an interactive hover tool.\n",
        "        Interactive hover shows the values of all time series data and date\n",
        "        that is added to the figure.\n",
        "        Arguments:\n",
        "            fig (:obj:`bokeh.plotting.figure.Figure`): a figure instance to add\n",
        "                the line to.\n",
        "            x (str): name of the datetime index or column in the\n",
        "                :obj:`pandas.DataFrame` containing data to plot.\n",
        "            y (str): name of the column in the :obj:`pandas.DataFrame` to plot.\n",
        "            source (:obj:`bokeh.models.sources.ColumnDataSource`): column data\n",
        "                source created from the :obj:`pandas.DataFrame` with data to\n",
        "                plot.\n",
        "            color (str): color of plot line, see Bokeh for color options.\n",
        "            label (str or :obj:`None`): default :obj:`None`. Label for plot\n",
        "                legend (for ``y``).\n",
        "            x_axis_type (:obj:`str` or :obj:`None`): default 'date'. If \"date\"\n",
        "                then the x-axis will be formatted as month-day-year.\n",
        "        Returns:\n",
        "            :obj:`None`\n",
        "        \"\"\"\n",
        "        hover_mode = kwargs.pop('mode','vline')\n",
        "        if label is None:\n",
        "            fig.line(x, y, source=source, color=color, **kwargs)\n",
        "        else:\n",
        "            #label=dict(value=label) # old label requirement bokeh < 2?\n",
        "            fig.line(x,y,source=source,color=color,legend_label=label,**kwargs)\n",
        "            fig.legend.location = \"top_left\"\n",
        "            fig.legend.click_policy=\"hide\"\n",
        "        # add Hover tool with additional tips if more than one line\n",
        "        if len(fig.hover) == 0:\n",
        "            if x_axis_type == 'date':\n",
        "                Hover = HoverTool(\n",
        "                    tooltips=[\n",
        "                        (x,'@{}{}'.format(x,'{%F}')),\n",
        "                        (y,'@{}'.format(y))\n",
        "                    ],\n",
        "                    formatters={'@{}'.format(x): 'datetime'},\n",
        "                    mode = hover_mode\n",
        "                )\n",
        "                fig.add_tools(Hover)\n",
        "            else:\n",
        "                Hover = HoverTool(\n",
        "                    tooltips=[\n",
        "                        (x,'@{}'.format(x)),\n",
        "                        (y,'@{}'.format(y))\n",
        "                    ],\n",
        "                    mode = hover_mode\n",
        "                )\n",
        "                fig.add_tools(Hover)\n",
        "        else:\n",
        "            fig.hover[0].tooltips.append((y,'@{}'.format(y)))\n",
        "        # enforce datetime x axis it date\n",
        "        if x_axis_type == 'date':\n",
        "            fig.xaxis.formatter = DatetimeTickFormatter(days=\"%d-%b-%Y\")\n",
        "\n",
        "\n",
        "\n"
      ]
    },
    {
      "cell_type": "markdown",
      "metadata": {
        "id": "i68najHBeKKo"
      },
      "source": [
        "### Error Functions"
      ]
    },
    {
      "cell_type": "markdown",
      "metadata": {
        "id": "c2q02NgRsN4K"
      },
      "source": [
        "### Site Processing"
      ]
    },
    {
      "cell_type": "code",
      "execution_count": null,
      "metadata": {
        "colab": {
          "base_uri": "https://localhost:8080/"
        },
        "id": "x2_QMDd3DgCc",
        "outputId": "1767dbbe-50a8-4a9e-fb61-14d4fc0e3841"
      },
      "outputs": [
        {
          "output_type": "stream",
          "name": "stdout",
          "text": [
            "NETRAD_pi_flag already created\n",
            "30D rolling window applied for IQR filtering\n",
            "NETRAD_pi_flag already created\n",
            "LE_pi_flag already created\n",
            "30D rolling window applied for IQR filtering\n",
            "LE_pi_flag already created\n",
            "H_pi_flag already created\n",
            "30D rolling window applied for IQR filtering\n",
            "H_pi_flag already created\n",
            "G_pi_flag already created\n",
            "30D rolling window applied for IQR filtering\n",
            "G_pi_flag already created\n"
          ]
        }
      ],
      "source": [
        "df= pd.read_csv(in_fname)\n",
        "df = watrs.assign_datetime_index(df)\n",
        "df = watrs.convert_to_num(df)\n",
        "convert_flags = {'b':'bad','g':'good'} #convert flags from b/g to bad/good\n",
        "flag_df['H'] = flag_df['H'].map(convert_flags) #\n",
        "flag_df['G'] = flag_df['G'].map(convert_flags)\n",
        "flag_df['LE'] = flag_df['LE'].map(convert_flags)\n",
        "flag_df['Netrad'] = flag_df['Netrad'].map(convert_flags)\n",
        "\n",
        "# Predefine quality flags\n",
        "df['H_pi_flag'] = 'good'\n",
        "df['LE_pi_flag'] = 'good'\n",
        "df['G_pi_flag'] = 'good'\n",
        "df['NETRAD_pi_flag'] = 'good'\n",
        "\n",
        "# Assign SSITC quality filter\n",
        "# If needed, we can adjust threshold to 7 to be more conservative\n",
        "# https://www.bayceer.uni-bayreuth.de/stoerungsoekologie/de/pub/pub/104460/Foken_etal_2012b.pdf\n",
        "# Set based on Table 4.4 & 4.5 in Foken et al., 2012\n",
        "SSITC_THRESH = 9\n",
        "\n",
        "df.loc[df.H_SSITC_TEST>=SSITC_THRESH,'H_pi_flag']='bad'\n",
        "df.loc[df.LE_SSITC_TEST>=SSITC_THRESH,'LE_pi_flag']='bad'\n",
        "\n",
        "df = watrs.rolling_quantile_flagging(df,_var_='NETRAD',  verbose=True)\n",
        "df = watrs.flag_spikes(df,_var_='NETRAD',z=12)\n",
        "\n",
        "df = watrs.rolling_quantile_flagging(df,_var_='LE',verbose=True)\n",
        "df = watrs.flag_spikes(df,_var_='LE')\n",
        "\n",
        "\n",
        "df = watrs.rolling_quantile_flagging(df,_var_='H',verbose=True)\n",
        "df = watrs.flag_spikes(df,_var_='H')\n",
        "\n",
        "df = watrs.rolling_quantile_flagging(df,_var_='G',verbose=True)\n",
        "df = watrs.flag_spikes(df,_var_='G')\n",
        "\n",
        "#iterate over flagged dates dataframe and use date flag function\n",
        "for i, day in flag_df.iterrows(): #need the i token for the index\n",
        "  start_date = day['start_datetime']\n",
        "  end_date = day['end_datetime']\n",
        "  H_flag = day['H']\n",
        "  if  H_flag == 'good':\n",
        "    df = watrs.date_flag(df, 'H_pi_flag', start_date, end_date, H_flag)\n",
        "  if  H_flag == 'bad':\n",
        "    df = watrs.date_flag(df, 'H_pi_flag', start_date, end_date, H_flag)\n",
        "\n",
        "for i, day in flag_df.iterrows(): #need the i token for the index\n",
        "  start_date = day['start_datetime']\n",
        "  end_date = day['end_datetime']\n",
        "  LE_flag = day['LE']\n",
        "  if LE_flag == 'good':\n",
        "    df = watrs.date_flag(df, 'LE_pi_flag', start_date, end_date, LE_flag)\n",
        "  if LE_flag == 'bad':\n",
        "    df = watrs.date_flag(df, 'LE_pi_flag', start_date, end_date, LE_flag)\n",
        "\n",
        "for i, day in flag_df.iterrows(): #need the i token for the index\n",
        "  start_date = day['start_datetime']\n",
        "  end_date = day['end_datetime']\n",
        "  G_flag = day['G']\n",
        "  if G_flag == 'good':\n",
        "    df = watrs.date_flag(df, 'G_pi_flag', start_date, end_date, G_flag)\n",
        "  if G_flag == 'bad':\n",
        "    df = watrs.date_flag(df, 'G_pi_flag', start_date, end_date, G_flag)\n",
        "\n",
        "for i, day in flag_df.iterrows(): #need the i token for the index\n",
        "  start_date = day['start_datetime']\n",
        "  end_date = day['end_datetime']\n",
        "  Netrad_flag = day['Netrad']\n",
        "  if Netrad_flag == 'good':\n",
        "    df = watrs.date_flag(df, 'NETRAD_pi_flag', start_date, end_date, Netrad_flag)\n",
        "  if Netrad_flag == 'bad':\n",
        "    df = watrs.date_flag(df, 'NETRAD_pi_flag', start_date, end_date, Netrad_flag)\n",
        "\n"
      ]
    },
    {
      "cell_type": "markdown",
      "metadata": {
        "id": "LFQBRie__oD6"
      },
      "source": [
        "### PI Flags"
      ]
    },
    {
      "cell_type": "code",
      "source": [
        "# CODE SNIPPED TO MANNUALLY FLAG TIME PERIODS\n",
        "# df = watrs.date_flag(df, 'H_pi_flag', '2024-10-09', '2024-10-18', 'good')\n",
        "# df = watrs.date_HH_flag(df, 'H_pi_flag', '2023-05-04'+' 11:00:00', '2023-05-04'+' 13:30:00', 'bad')"
      ],
      "metadata": {
        "id": "5XSGF-9Jasx9"
      },
      "execution_count": null,
      "outputs": []
    },
    {
      "cell_type": "code",
      "execution_count": null,
      "metadata": {
        "id": "YELyKXW27HZN"
      },
      "outputs": [],
      "source": [
        "# update filter plot variables to evaluate updates\n",
        "df['H_filt_1']=np.array(df.H)\n",
        "\n",
        "df.loc[df['H_pi_flag']=='bad','H_filt_1']=np.nan\n",
        "df.loc[df['H_pi_flag']=='good','H_filt_1']=df.loc[df['H_pi_flag']=='good']['H']\n",
        "\n",
        "\n",
        "# reassign df for plotting\n",
        "Hsource = ColumnDataSource(df[df['date_time']>'2023-12-31'])\n",
        "\n",
        "\n",
        "figH = figure(width=1200,\n",
        "             height=300,\n",
        "             x_axis_label='',\n",
        "             y_axis_label='Sensible Heat Wm-2')\n",
        "figH.y_range = Range1d(-100, 600)\n",
        "line_plot(figH, 'date_time', 'H', Hsource, color='blue', line_width=3)\n",
        "line_plot(figH, 'date_time', 'H_filt_1', Hsource, color='darkorange', line_width=2)\n",
        "show(figH)"
      ]
    },
    {
      "cell_type": "markdown",
      "source": [
        "Latent Heat Evaluation"
      ],
      "metadata": {
        "id": "Ond1_eDrWaP1"
      }
    },
    {
      "cell_type": "code",
      "execution_count": null,
      "metadata": {
        "id": "Sp4b4i7V8z1g"
      },
      "outputs": [],
      "source": [
        "# CODE SNIPPED TO MANNUALLY FLAG TIME PERIODS\n",
        "# df = watrs.date_flag(df, 'LE_pi_flag', '2025-01-27', '2025-01-31', 'good')\n",
        "\n",
        "# update filter plot variables to evaluate updates\n",
        "df['LE_filt_1']=np.array(df.LE)\n",
        "df.loc[df['LE_pi_flag']=='bad','LE_filt_1']=np.nan\n",
        "df.loc[df['LE_pi_flag']=='good','LE_filt_1']=df.loc[df['LE_pi_flag']=='good']['LE']\n",
        "# reassign df for plotting\n",
        "LEsource = ColumnDataSource(df[df.date_time>='2024-01'])\n",
        "\n",
        "\n",
        "#turbulent fluxes\n",
        "figLE = figure(width=1200,\n",
        "             height=300,\n",
        "             x_axis_label='',\n",
        "             y_axis_label='Latent Heat Wm-2')\n",
        "figLE.y_range = Range1d(-100, 800)\n",
        "line_plot(figLE, 'date_time', 'LE', LEsource, color='royalblue', line_width=2)\n",
        "line_plot(figLE, 'date_time', 'LE_filt_1', LEsource, color='darkorange', line_width=2)\n",
        "show(figLE)\n",
        "\n"
      ]
    },
    {
      "cell_type": "markdown",
      "source": [
        "Ground Heat Flux Evaluation"
      ],
      "metadata": {
        "id": "8EYLhlkpWX9S"
      }
    },
    {
      "cell_type": "code",
      "execution_count": null,
      "metadata": {
        "id": "PqMGDezY85Nu"
      },
      "outputs": [],
      "source": [
        "# CODE SNIPPED TO MANNUALLY FLAG TIME PERIODS\n",
        "df = watrs.date_flag(df, 'G_pi_flag', '2025-01-27', '2025-02-06', 'good')\n",
        "\n",
        "# update filter plot variables to evaluate updates\n",
        "df['G_filt_1']=np.array(df.G)\n",
        "df.loc[df['G_pi_flag']=='bad','G_filt_1']=np.nan\n",
        "df.loc[df['G_pi_flag']=='good','G_filt_1']=df.loc[df['G_pi_flag']=='good']['G']\n",
        "#re-assign df for plotting\n",
        "Gsource = ColumnDataSource(df[df.date_time>='2024-01'])\n",
        "\n",
        "# surface\n",
        "figG = figure(width=1200,\n",
        "             height=300,\n",
        "             x_axis_label='',\n",
        "             y_axis_label='G Wm-2')\n",
        "figG.y_range = Range1d(-200, 800)\n",
        "line_plot(figG, 'date_time', 'G', Gsource, color='blue', line_width=2)\n",
        "line_plot(figG, 'date_time', 'G_filt_1', Gsource, color='darkorange', line_width=2)\n",
        "\n",
        "show(figG)"
      ]
    },
    {
      "cell_type": "code",
      "execution_count": null,
      "metadata": {
        "id": "I03rOsA38iO-"
      },
      "outputs": [],
      "source": [
        "# CODE SNIPPED TO MANNUALLY FLAG TIME PERIODS\n",
        "# df = watrs.date_flag(df, 'NETRAD_pi_flag', '2025-01-27', '2025-02-06', 'good')\n",
        "\n",
        "# CODE SNIPPED TO MANNUALLY FLAG TIME PERIODS\n",
        "## df = date_flag(df, 'NETRAD_pi_flag', '2023-05-01', '2023-05-04', 'bad')\n",
        "# for d in np.arange(1,31):\n",
        "#   df = watrs.date_HH_flag(df, 'NETRAD_pi_flag', '2023-04-'+str(d).zfill(2)+' 15:30:00', '2023-04-'+str(d).zfill(2)+' 16:30:00', 'bad')\n",
        "#   df = watrs.date_HH_flag(df, 'NETRAD_pi_flag', '2023-05-'+str(d).zfill(2)+' 15:30:00', '2023-05-'+str(d).zfill(2)+' 16:30:00', 'bad')\n",
        "#   df = watrs.date_HH_flag(df, 'NETRAD_pi_flag', '2023-06-'+str(d).zfill(2)+' 15:30:00', '2023-06-'+str(d).zfill(2)+' 16:30:00', 'bad')\n",
        "# df = watrs.date_flag(df, 'NETRAD_pi_flag', '2022-09-23', '2022-10-18', 'good')\n",
        "\n",
        "# set filter column and flag\n",
        "df['NETRAD_filt_1']=np.array(df.NETRAD)\n",
        "df.loc[df['NETRAD_pi_flag']=='bad','NETRAD_filt_1']=np.nan\n",
        "df.loc[df['NETRAD_pi_flag']=='good','NETRAD_filt_1']=df.loc[df['NETRAD_pi_flag']=='good']['NETRAD']\n",
        "# redefine df\n",
        "Rnsource = ColumnDataSource(df)#[df.date_time>='2024-01'])\n",
        "\n",
        "# surface\n",
        "figRN = figure(width=1200,\n",
        "             height=300,\n",
        "             x_axis_label='',\n",
        "             y_axis_label='NETRAD Wm-2')\n",
        "figRN.y_range = Range1d(-200, 800)\n",
        "line_plot(figRN, 'date_time', 'NETRAD', Rnsource, color='blue', line_width=2)\n",
        "# line_plot(figRN, 'date_time', 'NETRAD_gap_fill', source, color='green', line_width=2)\n",
        "line_plot(figRN, 'date_time', 'NETRAD_filt_1', Rnsource, color='darkorange', line_width=2)\n",
        "\n",
        "show(figRN)"
      ]
    },
    {
      "cell_type": "markdown",
      "source": [
        "Plan to add additional plots to unpack sensor anomalies:\n",
        "- Temp\n",
        "- RH\n",
        "- CO2"
      ],
      "metadata": {
        "id": "fp4Ht6nSbDur"
      }
    },
    {
      "cell_type": "markdown",
      "metadata": {
        "id": "CgosJOqb_gVl"
      },
      "source": [
        "### Adjust wind due to settings on Logger relation to orientation\n",
        "* Need to add manual catch for Zabala wind direction change to guide wind direction filtering"
      ]
    },
    {
      "cell_type": "code",
      "source": [
        "def get_field_name(raw_data_path):\n",
        "  elements= raw_data_path.split('/')[-1].split('_')\n",
        "  if len(elements)>=3:\n",
        "    field_name = '_'.join(elements[:-1])\n",
        "  else:\n",
        "    field_name = elements[0]\n",
        "  return(field_name)\n",
        "\n",
        "field_name = get_field_name(raw_data_path)\n",
        "\n",
        "# # Need to update wind directions based on set up error\n",
        "if field_name =='CSUMB_Lettuce_Pryor':\n",
        "  df.loc[df.date_time<='2023-05-03','WD']=df.loc[df.date_time<='2023-05-03'].WD-30\n",
        "if field_name =='CSUMB_WineGrape_Zabala':\n",
        "  df.loc[df.date_time<='2023-04-20','WD']=df.loc[df.date_time<='2023-04-20'].WD-36\n",
        "df.loc[df.WD<-1,'WD']=np.nan"
      ],
      "metadata": {
        "id": "5j5AjpsJjDCP"
      },
      "execution_count": null,
      "outputs": []
    },
    {
      "cell_type": "markdown",
      "metadata": {
        "id": "qZARcypc_888"
      },
      "source": [
        "### Export dataframe with PI flag columns"
      ]
    },
    {
      "cell_type": "code",
      "execution_count": null,
      "metadata": {
        "colab": {
          "base_uri": "https://localhost:8080/"
        },
        "id": "1_SrFmL-9fO7",
        "outputId": "3d192b3f-46a0-4707-d8f2-bfe25dce086d"
      },
      "outputs": [
        {
          "output_type": "stream",
          "name": "stdout",
          "text": [
            "file saved to: \t/content/drive/Shareddrives/WATRS_Field_Data/Field_Data/CSUMB_WineGrape_Zabala_2023/Data_processed/MB_WG_ZAB_pi_qc_20250209.csv\n"
          ]
        }
      ],
      "source": [
        "print('file saved to: \\t'+out_fname)\n",
        "df.to_csv(out_fname)"
      ]
    }
  ],
  "metadata": {
    "colab": {
      "provenance": [],
      "include_colab_link": true
    },
    "kernelspec": {
      "display_name": "Python 3",
      "name": "python3"
    },
    "language_info": {
      "name": "python"
    }
  },
  "nbformat": 4,
  "nbformat_minor": 0
}